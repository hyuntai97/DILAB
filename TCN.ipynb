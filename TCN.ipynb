{
  "cells": [
    {
      "cell_type": "markdown",
      "metadata": {
        "id": "Za31O4PqYZu1"
      },
      "source": [
        "# Load Data\n",
        "- MNIST"
      ]
    },
    {
      "cell_type": "code",
      "execution_count": null,
      "metadata": {
        "id": "pLMmjzJIYK4_"
      },
      "outputs": [],
      "source": [
        "import torch\n",
        "from torchvision import datasets, transforms"
      ]
    },
    {
      "cell_type": "code",
      "execution_count": null,
      "metadata": {
        "id": "nu5PtlMzYVCT"
      },
      "outputs": [],
      "source": [
        "def data_generator(root, batch_size):\n",
        "    train_set = datasets.MNIST(root=root, train=True, download=True,\n",
        "                               transform=transforms.Compose([\n",
        "                                   transforms.ToTensor(),\n",
        "                                   transforms.Normalize((0.1307,), (0.3081,))\n",
        "                               ]))\n",
        "    test_set = datasets.MNIST(root=root, train=False, download=True,\n",
        "                              transform=transforms.Compose([\n",
        "                                  transforms.ToTensor(),\n",
        "                                  transforms.Normalize((0.1307,), (0.3081,))\n",
        "                              ]))\n",
        "\n",
        "    train_loader = torch.utils.data.DataLoader(train_set, batch_size=batch_size)\n",
        "    test_loader = torch.utils.data.DataLoader(test_set, batch_size=batch_size)\n",
        "    return train_loader, test_loader"
      ]
    },
    {
      "cell_type": "markdown",
      "metadata": {
        "id": "zQx6zXKlYwRb"
      },
      "source": [
        "# Model"
      ]
    },
    {
      "cell_type": "code",
      "execution_count": null,
      "metadata": {
        "id": "M_pRBvlNYep3"
      },
      "outputs": [],
      "source": [
        "import torch\n",
        "import torch.nn.functional as F\n",
        "import torch.nn as nn\n",
        "from torch.nn.utils import weight_norm"
      ]
    },
    {
      "cell_type": "code",
      "execution_count": null,
      "metadata": {
        "id": "mAQ-AmQmY44m"
      },
      "outputs": [],
      "source": [
        "class Chomp1d(nn.Module):\n",
        "    def __init__(self, chomp_size):\n",
        "        super(Chomp1d, self).__init__()\n",
        "        # chomp_size(padding size): (kernel_size-1) * dilation_size \n",
        "        self.chomp_size = chomp_size  \n",
        "\n",
        "    def forward(self, x):\n",
        "        # output: (N, C_in, L_in - chomp_size)\n",
        "        return x[:, :, :-self.chomp_size].contiguous()\n",
        "\n",
        "\n",
        "class TemporalBlock(nn.Module):\n",
        "    def __init__(self, n_inputs, n_outputs, kernel_size, stride, dilation, padding, dropout=0.2):\n",
        "        super(TemporalBlock, self).__init__()\n",
        "        #--------------------- Dilated Causal Convolution --------------------- \n",
        "        '''\n",
        "        input: (N, C_in, L_in) -> (N, C_out, L_in)\n",
        "        output sequence의 길이는 변하지 않는다. \n",
        "        '''\n",
        "        self.conv1 = weight_norm(nn.Conv1d(n_inputs, n_outputs, kernel_size,\n",
        "                                           stride=stride, padding=padding, dilation=dilation))\n",
        "        self.chomp1 = Chomp1d(padding)\n",
        "        #----------------------------------------------------------------------\n",
        "        self.relu1 = nn.ReLU()\n",
        "        self.dropout1 = nn.Dropout(dropout)\n",
        "\n",
        "        #--------------------- Dilated Causal Convolution --------------------- \n",
        "        '''\n",
        "        input: (N, C_in, L_in) -> output: (N, C_out, L_in)\n",
        "        output sequence의 길이는 변하지 않는다. \n",
        "        '''\n",
        "        self.conv2 = weight_norm(nn.Conv1d(n_outputs, n_outputs, kernel_size,\n",
        "                                           stride=stride, padding=padding, dilation=dilation))\n",
        "        self.chomp2 = Chomp1d(padding)\n",
        "        #----------------------------------------------------------------------\n",
        "        self.relu2 = nn.ReLU()\n",
        "        self.dropout2 = nn.Dropout(dropout)\n",
        "        \n",
        "        # Dilated Causal Conv -> WeightedNorm -> ReLU -> Dropout -> ... (논문의 Residual block 구조와 동일)\n",
        "        self.net = nn.Sequential(self.conv1, self.chomp1, self.relu1, self.dropout1,\n",
        "                                 self.conv2, self.chomp2, self.relu2, self.dropout2)\n",
        "        \n",
        "        # Residual Connections \n",
        "        '''  \n",
        "        만약 Dilated Causal Conv를 적용하기 전의 input channel과 적용한 후의 \n",
        "        output channel이 달라질 경우를 대비하여 추가적인 1*1 convolution을 추가해줌.\n",
        "\n",
        "        input: (N, C_in, L_in) -> output: (N, C_out, L_in)\n",
        "        output sequence의 길이는 변하지 않는다. (1*1 convolution)\n",
        "        '''  \n",
        "        self.downsample = nn.Conv1d(n_inputs, n_outputs, 1) if n_inputs != n_outputs else None\n",
        "        self.relu = nn.ReLU()\n",
        "        self.init_weights()\n",
        "\n",
        "    def init_weights(self):\n",
        "        self.conv1.weight.data.normal_(0, 0.01)\n",
        "        self.conv2.weight.data.normal_(0, 0.01)\n",
        "        if self.downsample is not None:\n",
        "            self.downsample.weight.data.normal_(0, 0.01)\n",
        "\n",
        "    def forward(self, x):\n",
        "        out = self.net(x)\n",
        "        res = x if self.downsample is None else self.downsample(x)\n",
        "        return self.relu(out + res)\n",
        "\n",
        "\n",
        "class TemporalConvNet(nn.Module):\n",
        "    def __init__(self, num_inputs, num_channels, kernel_size=2, dropout=0.2):\n",
        "        super(TemporalConvNet, self).__init__()\n",
        "        layers = []\n",
        "        num_levels = len(num_channels)\n",
        "        for i in range(num_levels):\n",
        "            # dilation factor는 layer의 깊이에 지수적으로 증가 (2^i, i: layer depth) \n",
        "            dilation_size = 2 ** i \n",
        "            in_channels = num_inputs if i == 0 else num_channels[i-1]\n",
        "            out_channels = num_channels[i]\n",
        "            # 설정된 layer의 깊이만큼 TemporalBlock 생성 \n",
        "            layers += [TemporalBlock(in_channels, out_channels, kernel_size, stride=1, dilation=dilation_size,\n",
        "                                     padding=(kernel_size-1) * dilation_size, dropout=dropout)]\n",
        "\n",
        "        self.network = nn.Sequential(*layers)\n",
        "\n",
        "    def forward(self, x):\n",
        "        return self.network(x)"
      ]
    },
    {
      "cell_type": "code",
      "execution_count": null,
      "metadata": {
        "id": "cCanO-BiY-6v"
      },
      "outputs": [],
      "source": [
        "class TCN(nn.Module):\n",
        "    def __init__(self, input_size, output_size, num_channels, kernel_size, dropout):\n",
        "        super(TCN, self).__init__()\n",
        "        self.tcn = TemporalConvNet(input_size, num_channels, kernel_size=kernel_size, dropout=dropout)\n",
        "        self.linear = nn.Linear(num_channels[-1], output_size)\n",
        "\n",
        "    def forward(self, inputs):\n",
        "        \"\"\"\n",
        "        Inputs have to have dimension (N, C_in, L_in)\n",
        "        Flatten된 MNIST의 경우에는 (batch_size, 1, 784)\n",
        "        \"\"\"\n",
        "        y1 = self.tcn(inputs)  # input should have dimension (N, C, L)\n",
        "        o = self.linear(y1[:, :, -1]) # sequence의 마지막 time step로 linear계산 -> 분류예측\n",
        "        return F.log_softmax(o, dim=1)"
      ]
    },
    {
      "cell_type": "markdown",
      "metadata": {
        "id": "-braLDDi3kcL"
      },
      "source": [
        "# Config"
      ]
    },
    {
      "cell_type": "code",
      "execution_count": null,
      "metadata": {
        "id": "ClAwFcV3C_zj"
      },
      "outputs": [],
      "source": [
        "import numpy as np"
      ]
    },
    {
      "cell_type": "code",
      "execution_count": null,
      "metadata": {
        "id": "rpjZZBSH3tDR"
      },
      "outputs": [],
      "source": [
        "batch_size = 64\n",
        "cuda = torch.cuda.is_available()\n",
        "dropout = 0.05\n",
        "epochs = 20\n",
        "ksize = 7\n",
        "levels = 8\n",
        "log_interval = 100\n",
        "lr = 2e-3\n",
        "optim = 'Adam'\n",
        "clip=-1\n",
        "nhid = 25\n",
        "seed = 1004\n",
        "permute = False\n",
        "n_classes = 10\n",
        "input_channels = 1\n",
        "seq_length = int(784 / input_channels)\n",
        "root = './'"
      ]
    },
    {
      "cell_type": "markdown",
      "metadata": {
        "id": "40wdvq5p5ADW"
      },
      "source": [
        "# Train"
      ]
    },
    {
      "cell_type": "code",
      "execution_count": null,
      "metadata": {
        "id": "yXkFYWMw7XWx"
      },
      "outputs": [],
      "source": [
        "def train(ep):\n",
        "    global steps\n",
        "    train_loss = 0\n",
        "    model.train()\n",
        "\n",
        "    loss_lst = []\n",
        "    for batch_idx, (data, target) in enumerate(train_loader):\n",
        "        if cuda: data, target = data.cuda(), target.cuda()\n",
        "        data = data.view(-1, input_channels, seq_length)\n",
        "        if permute:\n",
        "            data = data[:, :, permute]\n",
        "        optimizer.zero_grad()\n",
        "        output = model(data)\n",
        "        loss = F.nll_loss(output, target)\n",
        "        loss.backward()\n",
        "        if clip > 0:\n",
        "            torch.nn.utils.clip_grad_norm_(model.parameters(), clip)\n",
        "        optimizer.step()\n",
        "        train_loss += loss\n",
        "        steps += seq_length\n",
        "        loss_lst.append(train_loss.item()/log_interval)\n",
        "        if batch_idx > 0 and batch_idx % log_interval == 0:\n",
        "            print('Train Epoch: {} [{}/{} ({:.0f}%)]\\tLoss: {:.6f}\\tSteps: {}'.format(\n",
        "                ep, batch_idx * batch_size, len(train_loader.dataset),\n",
        "                100. * batch_idx / len(train_loader), train_loss.item()/log_interval, steps))\n",
        "            train_loss = 0\n",
        "\n",
        "    return np.mean(loss_lst)\n",
        "\n",
        "\n",
        "def test():\n",
        "    model.eval()\n",
        "    test_loss = 0\n",
        "    correct = 0\n",
        "    with torch.no_grad():\n",
        "        for data, target in test_loader:\n",
        "            if cuda:\n",
        "                data, target = data.cuda(), target.cuda()\n",
        "            data = data.view(-1, input_channels, seq_length)\n",
        "            if permute:\n",
        "                data = data[:, :, permute]\n",
        "            output = model(data)\n",
        "            test_loss += F.nll_loss(output, target, size_average=False).item()\n",
        "            pred = output.data.max(1, keepdim=True)[1]\n",
        "            correct += pred.eq(target.data.view_as(pred)).cpu().sum()\n",
        "\n",
        "        test_loss /= len(test_loader.dataset)\n",
        "        print('\\nTest set: Average loss: {:.4f}, Accuracy: {}/{} ({:.0f}%)\\n'.format(\n",
        "            test_loss, correct, len(test_loader.dataset),\n",
        "            100. * correct / len(test_loader.dataset)))\n",
        "        return test_loss"
      ]
    },
    {
      "cell_type": "code",
      "execution_count": null,
      "metadata": {
        "colab": {
          "base_uri": "https://localhost:8080/"
        },
        "id": "aE8tEWDl_VyH",
        "outputId": "03f40c81-5557-439a-e4dd-87c814c71646"
      },
      "outputs": [
        {
          "name": "stdout",
          "output_type": "stream",
          "text": [
            "[25, 25, 25, 25, 25, 25, 25, 25]\n"
          ]
        }
      ],
      "source": [
        "steps = 0\n",
        "train_loader, test_loader = data_generator(root, batch_size)\n",
        "channel_sizes = [nhid] * levels\n",
        "\n",
        "print(channel_sizes)"
      ]
    },
    {
      "cell_type": "code",
      "execution_count": null,
      "metadata": {
        "id": "F9EMSxP86KUT"
      },
      "outputs": [],
      "source": [
        "model = TCN(input_channels, n_classes, channel_sizes, kernel_size=ksize, dropout=dropout)\n",
        "\n",
        "if cuda:\n",
        "    model.cuda()\n",
        "\n",
        "optimizer = torch.optim.Adam(model.parameters(), lr=lr)"
      ]
    },
    {
      "cell_type": "code",
      "execution_count": null,
      "metadata": {
        "colab": {
          "base_uri": "https://localhost:8080/"
        },
        "id": "SCy_Uz93_Ldf",
        "outputId": "91f26caf-fff3-4431-a20c-8aacf66752d0"
      },
      "outputs": [
        {
          "name": "stdout",
          "output_type": "stream",
          "text": [
            "Train Epoch: 1 [6400/60000 (11%)]\tLoss: 0.041101\tSteps: 6607552\n",
            "Train Epoch: 1 [12800/60000 (21%)]\tLoss: 0.045729\tSteps: 6685952\n",
            "Train Epoch: 1 [19200/60000 (32%)]\tLoss: 0.039530\tSteps: 6764352\n",
            "Train Epoch: 1 [25600/60000 (43%)]\tLoss: 0.039536\tSteps: 6842752\n",
            "Train Epoch: 1 [32000/60000 (53%)]\tLoss: 0.046653\tSteps: 6921152\n",
            "Train Epoch: 1 [38400/60000 (64%)]\tLoss: 0.045956\tSteps: 6999552\n",
            "Train Epoch: 1 [44800/60000 (75%)]\tLoss: 0.064901\tSteps: 7077952\n",
            "Train Epoch: 1 [51200/60000 (85%)]\tLoss: 0.072180\tSteps: 7156352\n",
            "Train Epoch: 1 [57600/60000 (96%)]\tLoss: 0.051976\tSteps: 7234752\n"
          ]
        },
        {
          "name": "stderr",
          "output_type": "stream",
          "text": [
            "/usr/local/lib/python3.7/dist-packages/torch/nn/_reduction.py:42: UserWarning: size_average and reduce args will be deprecated, please use reduction='sum' instead.\n",
            "  warnings.warn(warning.format(ret))\n"
          ]
        },
        {
          "name": "stdout",
          "output_type": "stream",
          "text": [
            "\n",
            "Test set: Average loss: 0.0719, Accuracy: 9779/10000 (98%)\n",
            "\n",
            "Train Epoch: 2 [6400/60000 (11%)]\tLoss: 0.047974\tSteps: 7342944\n",
            "Train Epoch: 2 [12800/60000 (21%)]\tLoss: 0.040478\tSteps: 7421344\n",
            "Train Epoch: 2 [19200/60000 (32%)]\tLoss: 0.035321\tSteps: 7499744\n",
            "Train Epoch: 2 [25600/60000 (43%)]\tLoss: 0.037890\tSteps: 7578144\n",
            "Train Epoch: 2 [32000/60000 (53%)]\tLoss: 0.039100\tSteps: 7656544\n",
            "Train Epoch: 2 [38400/60000 (64%)]\tLoss: 0.051952\tSteps: 7734944\n",
            "Train Epoch: 2 [44800/60000 (75%)]\tLoss: 0.047769\tSteps: 7813344\n",
            "Train Epoch: 2 [51200/60000 (85%)]\tLoss: 0.059327\tSteps: 7891744\n",
            "Train Epoch: 2 [57600/60000 (96%)]\tLoss: 0.048469\tSteps: 7970144\n",
            "\n",
            "Test set: Average loss: 0.0464, Accuracy: 9848/10000 (98%)\n",
            "\n",
            "Train Epoch: 3 [6400/60000 (11%)]\tLoss: 0.043620\tSteps: 8078336\n",
            "Train Epoch: 3 [12800/60000 (21%)]\tLoss: 0.038982\tSteps: 8156736\n",
            "Train Epoch: 3 [19200/60000 (32%)]\tLoss: 0.040510\tSteps: 8235136\n",
            "Train Epoch: 3 [25600/60000 (43%)]\tLoss: 0.040817\tSteps: 8313536\n",
            "Train Epoch: 3 [32000/60000 (53%)]\tLoss: 0.044684\tSteps: 8391936\n",
            "Train Epoch: 3 [38400/60000 (64%)]\tLoss: 0.042496\tSteps: 8470336\n",
            "Train Epoch: 3 [44800/60000 (75%)]\tLoss: 0.053809\tSteps: 8548736\n",
            "Train Epoch: 3 [51200/60000 (85%)]\tLoss: 0.055636\tSteps: 8627136\n",
            "Train Epoch: 3 [57600/60000 (96%)]\tLoss: 0.042241\tSteps: 8705536\n",
            "\n",
            "Test set: Average loss: 0.0457, Accuracy: 9856/10000 (99%)\n",
            "\n",
            "Train Epoch: 4 [6400/60000 (11%)]\tLoss: 0.045278\tSteps: 8813728\n",
            "Train Epoch: 4 [12800/60000 (21%)]\tLoss: 0.038037\tSteps: 8892128\n",
            "Train Epoch: 4 [19200/60000 (32%)]\tLoss: 0.035183\tSteps: 8970528\n",
            "Train Epoch: 4 [25600/60000 (43%)]\tLoss: 0.035640\tSteps: 9048928\n",
            "Train Epoch: 4 [32000/60000 (53%)]\tLoss: 0.037874\tSteps: 9127328\n",
            "Train Epoch: 4 [38400/60000 (64%)]\tLoss: 0.042346\tSteps: 9205728\n",
            "Train Epoch: 4 [44800/60000 (75%)]\tLoss: 0.042835\tSteps: 9284128\n",
            "Train Epoch: 4 [51200/60000 (85%)]\tLoss: 0.048387\tSteps: 9362528\n",
            "Train Epoch: 4 [57600/60000 (96%)]\tLoss: 0.042949\tSteps: 9440928\n",
            "\n",
            "Test set: Average loss: 0.0431, Accuracy: 9873/10000 (99%)\n",
            "\n",
            "Train Epoch: 5 [6400/60000 (11%)]\tLoss: 0.033875\tSteps: 9549120\n",
            "Train Epoch: 5 [12800/60000 (21%)]\tLoss: 0.033692\tSteps: 9627520\n",
            "Train Epoch: 5 [19200/60000 (32%)]\tLoss: 0.031288\tSteps: 9705920\n",
            "Train Epoch: 5 [25600/60000 (43%)]\tLoss: 0.034730\tSteps: 9784320\n",
            "Train Epoch: 5 [32000/60000 (53%)]\tLoss: 0.043783\tSteps: 9862720\n",
            "Train Epoch: 5 [38400/60000 (64%)]\tLoss: 0.037689\tSteps: 9941120\n",
            "Train Epoch: 5 [44800/60000 (75%)]\tLoss: 0.041446\tSteps: 10019520\n",
            "Train Epoch: 5 [51200/60000 (85%)]\tLoss: 0.044902\tSteps: 10097920\n",
            "Train Epoch: 5 [57600/60000 (96%)]\tLoss: 0.042164\tSteps: 10176320\n",
            "\n",
            "Test set: Average loss: 0.0488, Accuracy: 9866/10000 (99%)\n",
            "\n",
            "Train Epoch: 6 [6400/60000 (11%)]\tLoss: 0.038502\tSteps: 10284512\n",
            "Train Epoch: 6 [12800/60000 (21%)]\tLoss: 0.035696\tSteps: 10362912\n",
            "Train Epoch: 6 [19200/60000 (32%)]\tLoss: 0.031614\tSteps: 10441312\n",
            "Train Epoch: 6 [25600/60000 (43%)]\tLoss: 0.026764\tSteps: 10519712\n",
            "Train Epoch: 6 [32000/60000 (53%)]\tLoss: 0.035030\tSteps: 10598112\n",
            "Train Epoch: 6 [38400/60000 (64%)]\tLoss: 0.036069\tSteps: 10676512\n",
            "Train Epoch: 6 [44800/60000 (75%)]\tLoss: 0.042907\tSteps: 10754912\n",
            "Train Epoch: 6 [51200/60000 (85%)]\tLoss: 0.039712\tSteps: 10833312\n",
            "Train Epoch: 6 [57600/60000 (96%)]\tLoss: 0.037324\tSteps: 10911712\n",
            "\n",
            "Test set: Average loss: 0.0431, Accuracy: 9865/10000 (99%)\n",
            "\n",
            "Train Epoch: 7 [6400/60000 (11%)]\tLoss: 0.036871\tSteps: 11019904\n",
            "Train Epoch: 7 [12800/60000 (21%)]\tLoss: 0.033189\tSteps: 11098304\n",
            "Train Epoch: 7 [19200/60000 (32%)]\tLoss: 0.028269\tSteps: 11176704\n",
            "Train Epoch: 7 [25600/60000 (43%)]\tLoss: 0.025452\tSteps: 11255104\n",
            "Train Epoch: 7 [32000/60000 (53%)]\tLoss: 0.034898\tSteps: 11333504\n",
            "Train Epoch: 7 [38400/60000 (64%)]\tLoss: 0.036157\tSteps: 11411904\n",
            "Train Epoch: 7 [44800/60000 (75%)]\tLoss: 0.034096\tSteps: 11490304\n",
            "Train Epoch: 7 [51200/60000 (85%)]\tLoss: 0.039693\tSteps: 11568704\n",
            "Train Epoch: 7 [57600/60000 (96%)]\tLoss: 0.032910\tSteps: 11647104\n",
            "\n",
            "Test set: Average loss: 0.0429, Accuracy: 9859/10000 (99%)\n",
            "\n",
            "Train Epoch: 8 [6400/60000 (11%)]\tLoss: 0.032128\tSteps: 11755296\n",
            "Train Epoch: 8 [12800/60000 (21%)]\tLoss: 0.030011\tSteps: 11833696\n",
            "Train Epoch: 8 [19200/60000 (32%)]\tLoss: 0.026086\tSteps: 11912096\n",
            "Train Epoch: 8 [25600/60000 (43%)]\tLoss: 0.023836\tSteps: 11990496\n",
            "Train Epoch: 8 [32000/60000 (53%)]\tLoss: 0.033951\tSteps: 12068896\n",
            "Train Epoch: 8 [38400/60000 (64%)]\tLoss: 0.033662\tSteps: 12147296\n",
            "Train Epoch: 8 [44800/60000 (75%)]\tLoss: 0.035258\tSteps: 12225696\n",
            "Train Epoch: 8 [51200/60000 (85%)]\tLoss: 0.038871\tSteps: 12304096\n",
            "Train Epoch: 8 [57600/60000 (96%)]\tLoss: 0.033556\tSteps: 12382496\n",
            "\n",
            "Test set: Average loss: 0.0409, Accuracy: 9868/10000 (99%)\n",
            "\n",
            "Train Epoch: 9 [6400/60000 (11%)]\tLoss: 0.033593\tSteps: 12490688\n",
            "Train Epoch: 9 [12800/60000 (21%)]\tLoss: 0.034981\tSteps: 12569088\n",
            "Train Epoch: 9 [19200/60000 (32%)]\tLoss: 0.026875\tSteps: 12647488\n",
            "Train Epoch: 9 [25600/60000 (43%)]\tLoss: 0.025897\tSteps: 12725888\n",
            "Train Epoch: 9 [32000/60000 (53%)]\tLoss: 0.032610\tSteps: 12804288\n",
            "Train Epoch: 9 [38400/60000 (64%)]\tLoss: 0.034647\tSteps: 12882688\n",
            "Train Epoch: 9 [44800/60000 (75%)]\tLoss: 0.032473\tSteps: 12961088\n",
            "Train Epoch: 9 [51200/60000 (85%)]\tLoss: 0.037087\tSteps: 13039488\n",
            "Train Epoch: 9 [57600/60000 (96%)]\tLoss: 0.027510\tSteps: 13117888\n",
            "\n",
            "Test set: Average loss: 0.0511, Accuracy: 9854/10000 (99%)\n",
            "\n",
            "Train Epoch: 10 [6400/60000 (11%)]\tLoss: 0.028322\tSteps: 13226080\n",
            "Train Epoch: 10 [12800/60000 (21%)]\tLoss: 0.033025\tSteps: 13304480\n",
            "Train Epoch: 10 [19200/60000 (32%)]\tLoss: 0.026241\tSteps: 13382880\n",
            "Train Epoch: 10 [25600/60000 (43%)]\tLoss: 0.026193\tSteps: 13461280\n",
            "Train Epoch: 10 [32000/60000 (53%)]\tLoss: 0.031147\tSteps: 13539680\n",
            "Train Epoch: 10 [38400/60000 (64%)]\tLoss: 0.030929\tSteps: 13618080\n",
            "Train Epoch: 10 [44800/60000 (75%)]\tLoss: 0.033007\tSteps: 13696480\n",
            "Train Epoch: 10 [51200/60000 (85%)]\tLoss: 0.035333\tSteps: 13774880\n",
            "Train Epoch: 10 [57600/60000 (96%)]\tLoss: 0.032253\tSteps: 13853280\n",
            "\n",
            "Test set: Average loss: 0.0439, Accuracy: 9863/10000 (99%)\n",
            "\n",
            "Train Epoch: 11 [6400/60000 (11%)]\tLoss: 0.028085\tSteps: 13961472\n",
            "Train Epoch: 11 [12800/60000 (21%)]\tLoss: 0.024750\tSteps: 14039872\n",
            "Train Epoch: 11 [19200/60000 (32%)]\tLoss: 0.018532\tSteps: 14118272\n",
            "Train Epoch: 11 [25600/60000 (43%)]\tLoss: 0.017935\tSteps: 14196672\n",
            "Train Epoch: 11 [32000/60000 (53%)]\tLoss: 0.019439\tSteps: 14275072\n",
            "Train Epoch: 11 [38400/60000 (64%)]\tLoss: 0.017888\tSteps: 14353472\n",
            "Train Epoch: 11 [44800/60000 (75%)]\tLoss: 0.017935\tSteps: 14431872\n",
            "Train Epoch: 11 [51200/60000 (85%)]\tLoss: 0.019199\tSteps: 14510272\n",
            "Train Epoch: 11 [57600/60000 (96%)]\tLoss: 0.011362\tSteps: 14588672\n",
            "\n",
            "Test set: Average loss: 0.0334, Accuracy: 9911/10000 (99%)\n",
            "\n",
            "Train Epoch: 12 [6400/60000 (11%)]\tLoss: 0.018067\tSteps: 14696864\n",
            "Train Epoch: 12 [12800/60000 (21%)]\tLoss: 0.016226\tSteps: 14775264\n",
            "Train Epoch: 12 [19200/60000 (32%)]\tLoss: 0.011403\tSteps: 14853664\n",
            "Train Epoch: 12 [25600/60000 (43%)]\tLoss: 0.012110\tSteps: 14932064\n",
            "Train Epoch: 12 [32000/60000 (53%)]\tLoss: 0.012710\tSteps: 15010464\n",
            "Train Epoch: 12 [38400/60000 (64%)]\tLoss: 0.017114\tSteps: 15088864\n",
            "Train Epoch: 12 [44800/60000 (75%)]\tLoss: 0.017026\tSteps: 15167264\n",
            "Train Epoch: 12 [51200/60000 (85%)]\tLoss: 0.017055\tSteps: 15245664\n",
            "Train Epoch: 12 [57600/60000 (96%)]\tLoss: 0.012638\tSteps: 15324064\n",
            "\n",
            "Test set: Average loss: 0.0335, Accuracy: 9916/10000 (99%)\n",
            "\n",
            "Train Epoch: 13 [6400/60000 (11%)]\tLoss: 0.015512\tSteps: 15432256\n",
            "Train Epoch: 13 [12800/60000 (21%)]\tLoss: 0.017059\tSteps: 15510656\n",
            "Train Epoch: 13 [19200/60000 (32%)]\tLoss: 0.010521\tSteps: 15589056\n",
            "Train Epoch: 13 [25600/60000 (43%)]\tLoss: 0.013322\tSteps: 15667456\n",
            "Train Epoch: 13 [32000/60000 (53%)]\tLoss: 0.013775\tSteps: 15745856\n",
            "Train Epoch: 13 [38400/60000 (64%)]\tLoss: 0.014810\tSteps: 15824256\n",
            "Train Epoch: 13 [44800/60000 (75%)]\tLoss: 0.015082\tSteps: 15902656\n",
            "Train Epoch: 13 [51200/60000 (85%)]\tLoss: 0.016687\tSteps: 15981056\n",
            "Train Epoch: 13 [57600/60000 (96%)]\tLoss: 0.011754\tSteps: 16059456\n",
            "\n",
            "Test set: Average loss: 0.0342, Accuracy: 9909/10000 (99%)\n",
            "\n",
            "Train Epoch: 14 [6400/60000 (11%)]\tLoss: 0.015495\tSteps: 16167648\n",
            "Train Epoch: 14 [12800/60000 (21%)]\tLoss: 0.016599\tSteps: 16246048\n",
            "Train Epoch: 14 [19200/60000 (32%)]\tLoss: 0.010403\tSteps: 16324448\n",
            "Train Epoch: 14 [25600/60000 (43%)]\tLoss: 0.010588\tSteps: 16402848\n",
            "Train Epoch: 14 [32000/60000 (53%)]\tLoss: 0.011616\tSteps: 16481248\n",
            "Train Epoch: 14 [38400/60000 (64%)]\tLoss: 0.012473\tSteps: 16559648\n",
            "Train Epoch: 14 [44800/60000 (75%)]\tLoss: 0.010445\tSteps: 16638048\n",
            "Train Epoch: 14 [51200/60000 (85%)]\tLoss: 0.016526\tSteps: 16716448\n",
            "Train Epoch: 14 [57600/60000 (96%)]\tLoss: 0.011620\tSteps: 16794848\n",
            "\n",
            "Test set: Average loss: 0.0344, Accuracy: 9917/10000 (99%)\n",
            "\n",
            "Train Epoch: 15 [6400/60000 (11%)]\tLoss: 0.014180\tSteps: 16903040\n",
            "Train Epoch: 15 [12800/60000 (21%)]\tLoss: 0.014460\tSteps: 16981440\n",
            "Train Epoch: 15 [19200/60000 (32%)]\tLoss: 0.009007\tSteps: 17059840\n",
            "Train Epoch: 15 [25600/60000 (43%)]\tLoss: 0.010103\tSteps: 17138240\n",
            "Train Epoch: 15 [32000/60000 (53%)]\tLoss: 0.010672\tSteps: 17216640\n",
            "Train Epoch: 15 [38400/60000 (64%)]\tLoss: 0.011748\tSteps: 17295040\n",
            "Train Epoch: 15 [44800/60000 (75%)]\tLoss: 0.013879\tSteps: 17373440\n",
            "Train Epoch: 15 [51200/60000 (85%)]\tLoss: 0.011532\tSteps: 17451840\n",
            "Train Epoch: 15 [57600/60000 (96%)]\tLoss: 0.009992\tSteps: 17530240\n",
            "\n",
            "Test set: Average loss: 0.0346, Accuracy: 9910/10000 (99%)\n",
            "\n",
            "Train Epoch: 16 [6400/60000 (11%)]\tLoss: 0.013715\tSteps: 17638432\n",
            "Train Epoch: 16 [12800/60000 (21%)]\tLoss: 0.010711\tSteps: 17716832\n",
            "Train Epoch: 16 [19200/60000 (32%)]\tLoss: 0.009772\tSteps: 17795232\n",
            "Train Epoch: 16 [25600/60000 (43%)]\tLoss: 0.009083\tSteps: 17873632\n",
            "Train Epoch: 16 [32000/60000 (53%)]\tLoss: 0.010745\tSteps: 17952032\n",
            "Train Epoch: 16 [38400/60000 (64%)]\tLoss: 0.011460\tSteps: 18030432\n",
            "Train Epoch: 16 [44800/60000 (75%)]\tLoss: 0.010019\tSteps: 18108832\n",
            "Train Epoch: 16 [51200/60000 (85%)]\tLoss: 0.011771\tSteps: 18187232\n",
            "Train Epoch: 16 [57600/60000 (96%)]\tLoss: 0.011234\tSteps: 18265632\n",
            "\n",
            "Test set: Average loss: 0.0344, Accuracy: 9910/10000 (99%)\n",
            "\n",
            "Train Epoch: 17 [6400/60000 (11%)]\tLoss: 0.012478\tSteps: 18373824\n",
            "Train Epoch: 17 [12800/60000 (21%)]\tLoss: 0.010705\tSteps: 18452224\n",
            "Train Epoch: 17 [19200/60000 (32%)]\tLoss: 0.008334\tSteps: 18530624\n",
            "Train Epoch: 17 [25600/60000 (43%)]\tLoss: 0.011794\tSteps: 18609024\n",
            "Train Epoch: 17 [32000/60000 (53%)]\tLoss: 0.008274\tSteps: 18687424\n",
            "Train Epoch: 17 [38400/60000 (64%)]\tLoss: 0.013999\tSteps: 18765824\n",
            "Train Epoch: 17 [44800/60000 (75%)]\tLoss: 0.011656\tSteps: 18844224\n",
            "Train Epoch: 17 [51200/60000 (85%)]\tLoss: 0.013239\tSteps: 18922624\n",
            "Train Epoch: 17 [57600/60000 (96%)]\tLoss: 0.011027\tSteps: 19001024\n",
            "\n",
            "Test set: Average loss: 0.0350, Accuracy: 9910/10000 (99%)\n",
            "\n",
            "Train Epoch: 18 [6400/60000 (11%)]\tLoss: 0.012922\tSteps: 19109216\n",
            "Train Epoch: 18 [12800/60000 (21%)]\tLoss: 0.016530\tSteps: 19187616\n",
            "Train Epoch: 18 [19200/60000 (32%)]\tLoss: 0.007741\tSteps: 19266016\n",
            "Train Epoch: 18 [25600/60000 (43%)]\tLoss: 0.007296\tSteps: 19344416\n",
            "Train Epoch: 18 [32000/60000 (53%)]\tLoss: 0.010573\tSteps: 19422816\n",
            "Train Epoch: 18 [38400/60000 (64%)]\tLoss: 0.010011\tSteps: 19501216\n",
            "Train Epoch: 18 [44800/60000 (75%)]\tLoss: 0.009770\tSteps: 19579616\n",
            "Train Epoch: 18 [51200/60000 (85%)]\tLoss: 0.014934\tSteps: 19658016\n",
            "Train Epoch: 18 [57600/60000 (96%)]\tLoss: 0.010698\tSteps: 19736416\n",
            "\n",
            "Test set: Average loss: 0.0356, Accuracy: 9919/10000 (99%)\n",
            "\n",
            "Train Epoch: 19 [6400/60000 (11%)]\tLoss: 0.012544\tSteps: 19844608\n",
            "Train Epoch: 19 [12800/60000 (21%)]\tLoss: 0.011767\tSteps: 19923008\n",
            "Train Epoch: 19 [19200/60000 (32%)]\tLoss: 0.006877\tSteps: 20001408\n",
            "Train Epoch: 19 [25600/60000 (43%)]\tLoss: 0.008403\tSteps: 20079808\n",
            "Train Epoch: 19 [32000/60000 (53%)]\tLoss: 0.008549\tSteps: 20158208\n",
            "Train Epoch: 19 [38400/60000 (64%)]\tLoss: 0.009767\tSteps: 20236608\n",
            "Train Epoch: 19 [44800/60000 (75%)]\tLoss: 0.011311\tSteps: 20315008\n",
            "Train Epoch: 19 [51200/60000 (85%)]\tLoss: 0.011265\tSteps: 20393408\n",
            "Train Epoch: 19 [57600/60000 (96%)]\tLoss: 0.009953\tSteps: 20471808\n"
          ]
        }
      ],
      "source": [
        "train_hist = np.zeros(epochs)\n",
        "test_hist = np.zeros(epochs)\n",
        "\n",
        "for epoch in range(1, epochs+1):\n",
        "    train_loss = train(epoch)\n",
        "    test_loss = test()\n",
        "    train_hist[epoch] = train_loss\n",
        "    test_hist[epoch] = test_loss\n",
        "\n",
        "    if epoch % 10 == 0:\n",
        "        lr /= 10\n",
        "        for param_group in optimizer.param_groups:\n",
        "            param_group['lr'] = lr"
      ]
    },
    {
      "cell_type": "code",
      "execution_count": null,
      "metadata": {
        "colab": {
          "base_uri": "https://localhost:8080/"
        },
        "id": "dkz1QOdQ_0BC",
        "outputId": "f125ca25-3148-423e-c80e-a840454b1911"
      },
      "outputs": [
        {
          "data": {
            "text/plain": [
              "array([0.        , 0.0245454 , 0.02305721, 0.02256827, 0.02040119,\n",
              "       0.01936794, 0.01785436, 0.01663967, 0.0158856 , 0.01587617,\n",
              "       0.01520845, 0.01001553, 0.00738936, 0.00711028, 0.00657757,\n",
              "       0.0057308 , 0.00544827, 0.00526195, 0.00564256, 0.00508863])"
            ]
          },
          "execution_count": 94,
          "metadata": {},
          "output_type": "execute_result"
        }
      ],
      "source": [
        "train_hist"
      ]
    },
    {
      "cell_type": "code",
      "execution_count": null,
      "metadata": {
        "colab": {
          "base_uri": "https://localhost:8080/"
        },
        "id": "UH9MKobwQuBI",
        "outputId": "de4bb810-1df6-48fb-cc71-989ff8b684fd"
      },
      "outputs": [
        {
          "data": {
            "text/plain": [
              "array([0.        , 0.0718815 , 0.04639563, 0.04574487, 0.0431038 ,\n",
              "       0.04879621, 0.04306144, 0.04292579, 0.04088197, 0.05112413,\n",
              "       0.04387851, 0.03339606, 0.03346706, 0.03421258, 0.03442019,\n",
              "       0.03458437, 0.03437225, 0.03504209, 0.03561838, 0.03612663])"
            ]
          },
          "execution_count": 95,
          "metadata": {},
          "output_type": "execute_result"
        }
      ],
      "source": [
        "test_hist"
      ]
    },
    {
      "cell_type": "code",
      "execution_count": null,
      "metadata": {
        "colab": {
          "base_uri": "https://localhost:8080/",
          "height": 283
        },
        "id": "ot3JX4QBQxwy",
        "outputId": "2db44bb0-e290-494c-f7fa-3697fba5f8d4"
      },
      "outputs": [
        {
          "data": {
            "text/plain": [
              "[<matplotlib.lines.Line2D at 0x7f569cbb76d0>]"
            ]
          },
          "execution_count": 97,
          "metadata": {},
          "output_type": "execute_result"
        },
        {
          "data": {
            "image/png": "[encoded data removed]",
            "text/plain": [
              "<Figure size 432x288 with 1 Axes>"
            ]
          },
          "metadata": {
            "needs_background": "light"
          },
          "output_type": "display_data"
        }
      ],
      "source": [
        "import matplotlib.pyplot as plt\n",
        "plt.plot(np.arange(19), test_hist[1:])"
      ]
    },
    {
      "cell_type": "code",
      "execution_count": null,
      "metadata": {
        "colab": {
          "base_uri": "https://localhost:8080/",
          "height": 283
        },
        "id": "9Okcra-cQ6xl",
        "outputId": "7af8b984-33f3-4b01-80a4-8852ad392799"
      },
      "outputs": [
        {
          "data": {
            "text/plain": [
              "[<matplotlib.lines.Line2D at 0x7f569c6e9290>]"
            ]
          },
          "execution_count": 98,
          "metadata": {},
          "output_type": "execute_result"
        },
        {
          "data": {
            "image/png": "[encoded data removed]",
            "text/plain": [
              "<Figure size 432x288 with 1 Axes>"
            ]
          },
          "metadata": {
            "needs_background": "light"
          },
          "output_type": "display_data"
        }
      ],
      "source": [
        "import matplotlib.pyplot as plt\n",
        "plt.plot(np.arange(19), train_hist[1:])"
      ]
    },
    {
      "cell_type": "code",
      "execution_count": null,
      "metadata": {
        "id": "oILbObzXRDJU"
      },
      "outputs": [],
      "source": []
    },
    {
      "cell_type": "code",
      "execution_count": 2,
      "metadata": {},
      "outputs": [
        {
          "name": "stdout",
          "output_type": "stream",
          "text": [
            "hello\n"
          ]
        }
      ],
      "source": [
        "print('hello')"
      ]
    },
    {
      "cell_type": "code",
      "execution_count": null,
      "metadata": {},
      "outputs": [],
      "source": []
    }
  ],
  "metadata": {
    "colab": {
      "collapsed_sections": [],
      "name": "TCN.ipynb",
      "provenance": []
    },
    "interpreter": {
      "hash": "d67b72366f26532c5f661c017539146322738586d7661e09ffcd2c8ef92eec78"
    },
    "kernelspec": {
      "display_name": "Python 3.9.7 ('tobigs')",
      "language": "python",
      "name": "python3"
    },
    "language_info": {
      "codemirror_mode": {
        "name": "ipython",
        "version": 3
      },
      "file_extension": ".py",
      "mimetype": "text/x-python",
      "name": "python",
      "nbconvert_exporter": "python",
      "pygments_lexer": "ipython3",
      "version": "3.9.7"
    }
  },
  "nbformat": 4,
  "nbformat_minor": 0
}
